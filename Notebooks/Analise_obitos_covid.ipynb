{
 "cells": [
  {
   "cell_type": "code",
   "execution_count": 135,
   "id": "hundred-indian",
   "metadata": {},
   "outputs": [],
   "source": [
    "import pandas as pd\n",
    "import seaborn as sns\n",
    "import matplotlib.pyplot as plt\n",
    "from jupyterthemes import jtplot\n",
    "from IPython.core.display import display, HTML, Markdown"
   ]
  },
  {
   "cell_type": "code",
   "execution_count": 136,
   "id": "amended-crisis",
   "metadata": {},
   "outputs": [
    {
     "data": {
      "text/html": [
       "<style>.container { width:99% !important; }</style>"
      ],
      "text/plain": [
       "<IPython.core.display.HTML object>"
      ]
     },
     "metadata": {},
     "output_type": "display_data"
    }
   ],
   "source": [
    "jtplot.style(theme='monokai', context='notebook', ticks=True, grid=False)\n",
    "display(HTML(\"<style>.container { width:99% !important; }</style>\"))"
   ]
  },
  {
   "cell_type": "code",
   "execution_count": 137,
   "id": "composed-decade",
   "metadata": {},
   "outputs": [],
   "source": [
    "path_2019='../Dados/obitos-2019.csv'\n",
    "path_2020='../Dados/obitos-2020.csv'"
   ]
  },
  {
   "cell_type": "code",
   "execution_count": 138,
   "id": "personalized-optics",
   "metadata": {},
   "outputs": [],
   "source": [
    "dados_2019 = pd.read_csv(path_2019)\n",
    "\n",
    "dados_2020 = pd.read_csv(path_2020)"
   ]
  },
  {
   "cell_type": "code",
   "execution_count": 139,
   "id": "later-essence",
   "metadata": {},
   "outputs": [
    {
     "name": "stdout",
     "output_type": "stream",
     "text": [
      "Forma da base de 2019: (12385, 6)\n",
      "Forma da base de 2020: (14921, 6)\n"
     ]
    }
   ],
   "source": [
    "print(f\"Forma da base de 2019: {dados_2019.shape}\\nForma da base de 2020: {dados_2020.shape}\")"
   ]
  },
  {
   "cell_type": "code",
   "execution_count": 140,
   "id": "british-governor",
   "metadata": {},
   "outputs": [
    {
     "data": {
      "text/html": [
       "<div>\n",
       "<style scoped>\n",
       "    .dataframe tbody tr th:only-of-type {\n",
       "        vertical-align: middle;\n",
       "    }\n",
       "\n",
       "    .dataframe tbody tr th {\n",
       "        vertical-align: top;\n",
       "    }\n",
       "\n",
       "    .dataframe thead th {\n",
       "        text-align: right;\n",
       "    }\n",
       "</style>\n",
       "<table border=\"1\" class=\"dataframe\">\n",
       "  <thead>\n",
       "    <tr style=\"text-align: right;\">\n",
       "      <th></th>\n",
       "      <th>uf</th>\n",
       "      <th>tipo_doenca</th>\n",
       "      <th>local_obito</th>\n",
       "      <th>faixa_etaria</th>\n",
       "      <th>sexo</th>\n",
       "      <th>total</th>\n",
       "    </tr>\n",
       "  </thead>\n",
       "  <tbody>\n",
       "    <tr>\n",
       "      <th>3592</th>\n",
       "      <td>BA</td>\n",
       "      <td>INSUFICIENCIA_RESPIRATORIA</td>\n",
       "      <td>OUTRO</td>\n",
       "      <td>40 - 49</td>\n",
       "      <td>M</td>\n",
       "      <td>7</td>\n",
       "    </tr>\n",
       "    <tr>\n",
       "      <th>2335</th>\n",
       "      <td>RS</td>\n",
       "      <td>OUTRAS</td>\n",
       "      <td>DOMICILIO</td>\n",
       "      <td>20 - 29</td>\n",
       "      <td>M</td>\n",
       "      <td>42</td>\n",
       "    </tr>\n",
       "    <tr>\n",
       "      <th>7223</th>\n",
       "      <td>CE</td>\n",
       "      <td>INSUFICIENCIA_RESPIRATORIA</td>\n",
       "      <td>OUTRO</td>\n",
       "      <td>70 - 79</td>\n",
       "      <td>F</td>\n",
       "      <td>6</td>\n",
       "    </tr>\n",
       "    <tr>\n",
       "      <th>7387</th>\n",
       "      <td>GO</td>\n",
       "      <td>SEPTICEMIA</td>\n",
       "      <td>IGNORADO</td>\n",
       "      <td>70 - 79</td>\n",
       "      <td>F</td>\n",
       "      <td>8</td>\n",
       "    </tr>\n",
       "    <tr>\n",
       "      <th>40</th>\n",
       "      <td>AL</td>\n",
       "      <td>INDETERMINADA</td>\n",
       "      <td>HOSPITAL</td>\n",
       "      <td>&lt; 9</td>\n",
       "      <td>M</td>\n",
       "      <td>1</td>\n",
       "    </tr>\n",
       "  </tbody>\n",
       "</table>\n",
       "</div>"
      ],
      "text/plain": [
       "      uf                 tipo_doenca local_obito faixa_etaria sexo  total\n",
       "3592  BA  INSUFICIENCIA_RESPIRATORIA       OUTRO      40 - 49    M      7\n",
       "2335  RS                      OUTRAS   DOMICILIO      20 - 29    M     42\n",
       "7223  CE  INSUFICIENCIA_RESPIRATORIA       OUTRO      70 - 79    F      6\n",
       "7387  GO                  SEPTICEMIA    IGNORADO      70 - 79    F      8\n",
       "40    AL               INDETERMINADA    HOSPITAL          < 9    M      1"
      ]
     },
     "execution_count": 140,
     "metadata": {},
     "output_type": "execute_result"
    }
   ],
   "source": [
    "dados_2019.sample(5)"
   ]
  },
  {
   "cell_type": "markdown",
   "id": "colored-jones",
   "metadata": {},
   "source": [
    "### Desafio 01 - Verificar como são classificados os dados"
   ]
  },
  {
   "cell_type": "markdown",
   "id": "contrary-penny",
   "metadata": {},
   "source": [
    "Disponivel o dicionario do registro de obito [aqui](https://transparencia.registrocivil.org.br/covid/dicionario_covid-19.pdf)"
   ]
  },
  {
   "cell_type": "markdown",
   "id": "religious-palestinian",
   "metadata": {},
   "source": [
    "Fim do Desafio"
   ]
  },
  {
   "cell_type": "code",
   "execution_count": 141,
   "id": "traditional-emergency",
   "metadata": {},
   "outputs": [
    {
     "data": {
      "text/plain": [
       "27"
      ]
     },
     "execution_count": 141,
     "metadata": {},
     "output_type": "execute_result"
    }
   ],
   "source": [
    "#Verificando se tem todos os estados\n",
    "len(dados_2019.uf.unique())"
   ]
  },
  {
   "cell_type": "code",
   "execution_count": 142,
   "id": "resident-tissue",
   "metadata": {},
   "outputs": [
    {
     "data": {
      "text/plain": [
       "array(['OUTRAS', 'INDETERMINADA', 'INSUFICIENCIA_RESPIRATORIA',\n",
       "       'PNEUMONIA', 'SEPTICEMIA', 'SRAG', 'COVID'], dtype=object)"
      ]
     },
     "execution_count": 142,
     "metadata": {},
     "output_type": "execute_result"
    }
   ],
   "source": [
    "dados_2019['tipo_doenca'].unique()"
   ]
  },
  {
   "cell_type": "code",
   "execution_count": 143,
   "id": "impressed-nothing",
   "metadata": {},
   "outputs": [
    {
     "data": {
      "text/plain": [
       "OUTRAS                        3847\n",
       "PNEUMONIA                     2353\n",
       "INSUFICIENCIA_RESPIRATORIA    2324\n",
       "SEPTICEMIA                    2065\n",
       "INDETERMINADA                 1308\n",
       "SRAG                           487\n",
       "COVID                            1\n",
       "Name: tipo_doenca, dtype: int64"
      ]
     },
     "execution_count": 143,
     "metadata": {},
     "output_type": "execute_result"
    }
   ],
   "source": [
    "dados_2019['tipo_doenca'].value_counts()"
   ]
  },
  {
   "cell_type": "code",
   "execution_count": 144,
   "id": "paperback-bread",
   "metadata": {},
   "outputs": [
    {
     "data": {
      "text/plain": [
       "OUTRAS                        3801\n",
       "INSUFICIENCIA_RESPIRATORIA    2334\n",
       "PNEUMONIA                     2214\n",
       "COVID                         2112\n",
       "SEPTICEMIA                    2031\n",
       "INDETERMINADA                 1347\n",
       "SRAG                          1082\n",
       "Name: tipo_doenca, dtype: int64"
      ]
     },
     "execution_count": 144,
     "metadata": {},
     "output_type": "execute_result"
    }
   ],
   "source": [
    "dados_2020['tipo_doenca'].value_counts()"
   ]
  },
  {
   "cell_type": "markdown",
   "id": "entertaining-denmark",
   "metadata": {},
   "source": [
    "### Desafio 02 - Fazer o somatorio dos valores e não a contagem"
   ]
  },
  {
   "cell_type": "code",
   "execution_count": 145,
   "id": "centered-sight",
   "metadata": {},
   "outputs": [
    {
     "data": {
      "text/html": [
       "<div>\n",
       "<style scoped>\n",
       "    .dataframe tbody tr th:only-of-type {\n",
       "        vertical-align: middle;\n",
       "    }\n",
       "\n",
       "    .dataframe tbody tr th {\n",
       "        vertical-align: top;\n",
       "    }\n",
       "\n",
       "    .dataframe thead th {\n",
       "        text-align: right;\n",
       "    }\n",
       "</style>\n",
       "<table border=\"1\" class=\"dataframe\">\n",
       "  <thead>\n",
       "    <tr style=\"text-align: right;\">\n",
       "      <th></th>\n",
       "      <th>total</th>\n",
       "    </tr>\n",
       "    <tr>\n",
       "      <th>tipo_doenca</th>\n",
       "      <th></th>\n",
       "    </tr>\n",
       "  </thead>\n",
       "  <tbody>\n",
       "    <tr>\n",
       "      <th>COVID</th>\n",
       "      <td>1</td>\n",
       "    </tr>\n",
       "    <tr>\n",
       "      <th>INDETERMINADA</th>\n",
       "      <td>6988</td>\n",
       "    </tr>\n",
       "    <tr>\n",
       "      <th>INSUFICIENCIA_RESPIRATORIA</th>\n",
       "      <td>100608</td>\n",
       "    </tr>\n",
       "    <tr>\n",
       "      <th>OUTRAS</th>\n",
       "      <td>660740</td>\n",
       "    </tr>\n",
       "    <tr>\n",
       "      <th>PNEUMONIA</th>\n",
       "      <td>226352</td>\n",
       "    </tr>\n",
       "    <tr>\n",
       "      <th>SEPTICEMIA</th>\n",
       "      <td>175533</td>\n",
       "    </tr>\n",
       "    <tr>\n",
       "      <th>SRAG</th>\n",
       "      <td>1498</td>\n",
       "    </tr>\n",
       "  </tbody>\n",
       "</table>\n",
       "</div>"
      ],
      "text/plain": [
       "                             total\n",
       "tipo_doenca                       \n",
       "COVID                            1\n",
       "INDETERMINADA                 6988\n",
       "INSUFICIENCIA_RESPIRATORIA  100608\n",
       "OUTRAS                      660740\n",
       "PNEUMONIA                   226352\n",
       "SEPTICEMIA                  175533\n",
       "SRAG                          1498"
      ]
     },
     "execution_count": 145,
     "metadata": {},
     "output_type": "execute_result"
    }
   ],
   "source": [
    "dados_2019.groupby('tipo_doenca').sum()"
   ]
  },
  {
   "cell_type": "code",
   "execution_count": 146,
   "id": "dangerous-journal",
   "metadata": {},
   "outputs": [
    {
     "data": {
      "text/html": [
       "<div>\n",
       "<style scoped>\n",
       "    .dataframe tbody tr th:only-of-type {\n",
       "        vertical-align: middle;\n",
       "    }\n",
       "\n",
       "    .dataframe tbody tr th {\n",
       "        vertical-align: top;\n",
       "    }\n",
       "\n",
       "    .dataframe thead th {\n",
       "        text-align: right;\n",
       "    }\n",
       "</style>\n",
       "<table border=\"1\" class=\"dataframe\">\n",
       "  <thead>\n",
       "    <tr style=\"text-align: right;\">\n",
       "      <th></th>\n",
       "      <th>total</th>\n",
       "    </tr>\n",
       "    <tr>\n",
       "      <th>tipo_doenca</th>\n",
       "      <th></th>\n",
       "    </tr>\n",
       "  </thead>\n",
       "  <tbody>\n",
       "    <tr>\n",
       "      <th>COVID</th>\n",
       "      <td>195787</td>\n",
       "    </tr>\n",
       "    <tr>\n",
       "      <th>INDETERMINADA</th>\n",
       "      <td>9713</td>\n",
       "    </tr>\n",
       "    <tr>\n",
       "      <th>INSUFICIENCIA_RESPIRATORIA</th>\n",
       "      <td>98978</td>\n",
       "    </tr>\n",
       "    <tr>\n",
       "      <th>OUTRAS</th>\n",
       "      <td>690474</td>\n",
       "    </tr>\n",
       "    <tr>\n",
       "      <th>PNEUMONIA</th>\n",
       "      <td>182081</td>\n",
       "    </tr>\n",
       "    <tr>\n",
       "      <th>SEPTICEMIA</th>\n",
       "      <td>162864</td>\n",
       "    </tr>\n",
       "    <tr>\n",
       "      <th>SRAG</th>\n",
       "      <td>16563</td>\n",
       "    </tr>\n",
       "  </tbody>\n",
       "</table>\n",
       "</div>"
      ],
      "text/plain": [
       "                             total\n",
       "tipo_doenca                       \n",
       "COVID                       195787\n",
       "INDETERMINADA                 9713\n",
       "INSUFICIENCIA_RESPIRATORIA   98978\n",
       "OUTRAS                      690474\n",
       "PNEUMONIA                   182081\n",
       "SEPTICEMIA                  162864\n",
       "SRAG                         16563"
      ]
     },
     "execution_count": 146,
     "metadata": {},
     "output_type": "execute_result"
    }
   ],
   "source": [
    "dados_2020.groupby('tipo_doenca').sum()"
   ]
  },
  {
   "cell_type": "code",
   "execution_count": 147,
   "id": "resident-charity",
   "metadata": {},
   "outputs": [
    {
     "data": {
      "text/html": [
       "<div>\n",
       "<style scoped>\n",
       "    .dataframe tbody tr th:only-of-type {\n",
       "        vertical-align: middle;\n",
       "    }\n",
       "\n",
       "    .dataframe tbody tr th {\n",
       "        vertical-align: top;\n",
       "    }\n",
       "\n",
       "    .dataframe thead th {\n",
       "        text-align: right;\n",
       "    }\n",
       "</style>\n",
       "<table border=\"1\" class=\"dataframe\">\n",
       "  <thead>\n",
       "    <tr style=\"text-align: right;\">\n",
       "      <th></th>\n",
       "      <th>total</th>\n",
       "    </tr>\n",
       "    <tr>\n",
       "      <th>tipo_doenca</th>\n",
       "      <th></th>\n",
       "    </tr>\n",
       "  </thead>\n",
       "  <tbody>\n",
       "    <tr>\n",
       "      <th>COVID</th>\n",
       "      <td>195787.00</td>\n",
       "    </tr>\n",
       "    <tr>\n",
       "      <th>INDETERMINADA</th>\n",
       "      <td>1.39</td>\n",
       "    </tr>\n",
       "    <tr>\n",
       "      <th>INSUFICIENCIA_RESPIRATORIA</th>\n",
       "      <td>0.98</td>\n",
       "    </tr>\n",
       "    <tr>\n",
       "      <th>OUTRAS</th>\n",
       "      <td>1.05</td>\n",
       "    </tr>\n",
       "    <tr>\n",
       "      <th>PNEUMONIA</th>\n",
       "      <td>0.80</td>\n",
       "    </tr>\n",
       "    <tr>\n",
       "      <th>SEPTICEMIA</th>\n",
       "      <td>0.93</td>\n",
       "    </tr>\n",
       "    <tr>\n",
       "      <th>SRAG</th>\n",
       "      <td>11.06</td>\n",
       "    </tr>\n",
       "  </tbody>\n",
       "</table>\n",
       "</div>"
      ],
      "text/plain": [
       "                                total\n",
       "tipo_doenca                          \n",
       "COVID                       195787.00\n",
       "INDETERMINADA                    1.39\n",
       "INSUFICIENCIA_RESPIRATORIA       0.98\n",
       "OUTRAS                           1.05\n",
       "PNEUMONIA                        0.80\n",
       "SEPTICEMIA                       0.93\n",
       "SRAG                            11.06"
      ]
     },
     "execution_count": 147,
     "metadata": {},
     "output_type": "execute_result"
    }
   ],
   "source": [
    "round(dados_2020.groupby('tipo_doenca').sum()/dados_2019.groupby('tipo_doenca').sum(),2)"
   ]
  },
  {
   "cell_type": "markdown",
   "id": "affecting-latino",
   "metadata": {},
   "source": [
    "### Desafio 03 - Explorar os outros campos da base"
   ]
  },
  {
   "cell_type": "code",
   "execution_count": 148,
   "id": "innovative-restoration",
   "metadata": {},
   "outputs": [],
   "source": [
    "def grafico_comparativo(causa):\n",
    "    total_2019 = dados_2019.groupby('tipo_doenca').sum()\n",
    "    total_2020 = dados_2020.groupby('tipo_doenca').sum()\n",
    "    \n",
    "    lista = int(total_2019.loc[causa]) , int(total_2020.loc[causa])\n",
    "    \n",
    "    plt.figure(figsize=(8,6))\n",
    "    dados = pd.DataFrame({'Total':lista,\n",
    "                         'Ano':[2019,2020]})\n",
    "    plt.title('Obitor por '+causa)\n",
    "    \n",
    "    \n",
    "    \n",
    "    sns.barplot(x='Ano', y='Total',data=dados)\n"
   ]
  },
  {
   "cell_type": "code",
   "execution_count": 149,
   "id": "muslim-placement",
   "metadata": {},
   "outputs": [
    {
     "data": {
      "image/png": "[encoded data removed]",
      "text/plain": [
       "<Figure size 576x432 with 1 Axes>"
      ]
     },
     "metadata": {},
     "output_type": "display_data"
    }
   ],
   "source": [
    "grafico_comparativo('SRAG')"
   ]
  },
  {
   "cell_type": "markdown",
   "id": "passing-sellers",
   "metadata": {},
   "source": [
    "### Desafio 4 - Adicionar na função opção de filtrar por estado"
   ]
  },
  {
   "cell_type": "code",
   "execution_count": 150,
   "id": "rolled-munich",
   "metadata": {},
   "outputs": [],
   "source": [
    "def grafico_comparativo_estado(causa,uf):\n",
    "    total_2019 = dados_2019.query(\"uf == uf\").groupby('tipo_doenca').sum()\n",
    "    total_2020 = dados_2020.query(\"uf == uf\").groupby('tipo_doenca').sum()\n",
    "    \n",
    "    lista = int(total_2019.loc[causa]) , int(total_2020.loc[causa])\n",
    "    \n",
    "    plt.figure(figsize=(8,6))\n",
    "    dados = pd.DataFrame({'Total':lista,\n",
    "                         'Ano':[2019,2020]})\n",
    "    plt.title('Obitor por '+causa+' no estado do: '+uf)\n",
    "    \n",
    "    \n",
    "    \n",
    "    sns.barplot(x='Ano', y='Total',data=dados)"
   ]
  },
  {
   "cell_type": "code",
   "execution_count": 151,
   "id": "standard-manhattan",
   "metadata": {},
   "outputs": [
    {
     "data": {
      "image/png": "[encoded data removed]",
      "text/plain": [
       "<Figure size 576x432 with 1 Axes>"
      ]
     },
     "metadata": {},
     "output_type": "display_data"
    }
   ],
   "source": [
    "grafico_comparativo_estado('PNEUMONIA','RJ')"
   ]
  },
  {
   "cell_type": "markdown",
   "id": "embedded-julian",
   "metadata": {},
   "source": [
    "Fim do desadio"
   ]
  },
  {
   "cell_type": "code",
   "execution_count": 157,
   "id": "extensive-microphone",
   "metadata": {},
   "outputs": [],
   "source": [
    "def grafico_comparativo(causa,uf='BRASIL'):\n",
    "    \n",
    "    if uf == 'BRASIL':\n",
    "        total_2019 = dados_2019.groupby('tipo_doenca').sum()\n",
    "        total_2020 = dados_2020.groupby('tipo_doenca').sum()\n",
    "        lista = int(total_2019.loc[causa]) , int(total_2020.loc[causa])\n",
    "    else:\n",
    "        total_2019 = dados_2019.groupby(['uf','tipo_doenca']).sum()\n",
    "        total_2020 = dados_2020.groupby(['uf','tipo_doenca']).sum()\n",
    "\n",
    "        lista = int(total_2019.loc[uf ,causa]) , int(total_2020.loc[uf,causa])\n",
    "\n",
    "    plt.figure(figsize=(8,6))\n",
    "    dados = pd.DataFrame({'Total':lista,\n",
    "                         'Ano':[2019,2020]})\n",
    "    plt.title('Obitor por '+causa+' - '+uf)\n",
    "    \n",
    "    \n",
    "    \n",
    "    sns.barplot(x='Ano', y='Total',data=dados)\n"
   ]
  },
  {
   "cell_type": "code",
   "execution_count": 158,
   "id": "promotional-seven",
   "metadata": {},
   "outputs": [
    {
     "data": {
      "image/png": "[encoded data removed]",
      "text/plain": [
       "<Figure size 576x432 with 1 Axes>"
      ]
     },
     "metadata": {},
     "output_type": "display_data"
    }
   ],
   "source": [
    "grafico_comparativo('PNEUMONIA')"
   ]
  },
  {
   "cell_type": "markdown",
   "id": "amino-jewel",
   "metadata": {},
   "source": [
    "### Desafio 05 - Entender como funciona uma aplicação WEB"
   ]
  },
  {
   "cell_type": "markdown",
   "id": "fundamental-directory",
   "metadata": {},
   "source": [
    "Resposta [aqui](https://www.devmedia.com.br/como-funcionam-as-aplicacoes-web/25888)"
   ]
  },
  {
   "cell_type": "markdown",
   "id": "decent-burton",
   "metadata": {},
   "source": [
    "Fim do desafio"
   ]
  },
  {
   "cell_type": "markdown",
   "id": "unknown-barrier",
   "metadata": {},
   "source": [
    "### Desafio 06 - Melhorar a função para aceitar apenas o estado"
   ]
  },
  {
   "cell_type": "code",
   "execution_count": 159,
   "id": "worse-benefit",
   "metadata": {},
   "outputs": [],
   "source": [
    "def grafico_comparativo(causa='TODAS',uf='BRASIL'):\n",
    "    \n",
    "    if uf == 'BRASIL':\n",
    "        total_2019 = dados_2019.groupby('tipo_doenca').sum()\n",
    "        total_2020 = dados_2020.groupby('tipo_doenca').sum()\n",
    "        if causa =='TODAS':\n",
    "            lista = int(total_2019['total'].sum()) , int(total_2020['total'].sum())\n",
    "        else:\n",
    "            lista = int(total_2019.loc[causa]) , int(total_2020.loc[causa])\n",
    "    \n",
    "\n",
    "    else:\n",
    "        total_2019 = dados_2019.groupby(['uf','tipo_doenca']).sum()\n",
    "        total_2020 = dados_2020.groupby(['uf','tipo_doenca']).sum()\n",
    "        if causa =='TODAS':\n",
    "            lista = int(total_2019.loc[uf].sum()) , int(total_2020.loc[uf].sum())\n",
    "        else:    \n",
    "            lista = int(total_2019.loc[uf ,causa]) , int(total_2020.loc[uf,causa])\n",
    "        \n",
    "\n",
    "    plt.figure(figsize=(8,6))\n",
    "    dados = pd.DataFrame({'Total':lista,\n",
    "                         'Ano':[2019,2020]})\n",
    "    plt.title('Obitor por '+causa+' no estado: '+uf)\n",
    "    sns.barplot(x='Ano', y='Total',data=dados)\n"
   ]
  },
  {
   "cell_type": "markdown",
   "id": "another-consequence",
   "metadata": {},
   "source": [
    "Fim do desafio"
   ]
  },
  {
   "cell_type": "code",
   "execution_count": null,
   "id": "massive-interval",
   "metadata": {},
   "outputs": [],
   "source": []
  },
  {
   "cell_type": "code",
   "execution_count": null,
   "id": "sweet-entity",
   "metadata": {},
   "outputs": [],
   "source": []
  }
 ],
 "metadata": {
  "kernelspec": {
   "display_name": "Python 3",
   "language": "python",
   "name": "python3"
  },
  "language_info": {
   "codemirror_mode": {
    "name": "ipython",
    "version": 3
   },
   "file_extension": ".py",
   "mimetype": "text/x-python",
   "name": "python",
   "nbconvert_exporter": "python",
   "pygments_lexer": "ipython3",
   "version": "3.8.5"
  }
 },
 "nbformat": 4,
 "nbformat_minor": 5
}
