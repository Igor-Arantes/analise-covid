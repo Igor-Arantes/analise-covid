{
 "cells": [
  {
   "cell_type": "code",
   "execution_count": 3,
   "id": "prerequisite-heating",
   "metadata": {},
   "outputs": [],
   "source": [
    "import pandas as pd"
   ]
  },
  {
   "cell_type": "code",
   "execution_count": 4,
   "id": "promotional-lightweight",
   "metadata": {},
   "outputs": [],
   "source": [
    "path_2019='../Dados/obitos-2019.csv'\n",
    "path_2020='../Dados/obitos-2020.csv'"
   ]
  },
  {
   "cell_type": "code",
   "execution_count": 6,
   "id": "prospective-palestine",
   "metadata": {},
   "outputs": [],
   "source": [
    "dados_2019 = pd.read_csv(path_2019)\n",
    "\n",
    "dados_2020 = pd.read_csv(path_2020)"
   ]
  },
  {
   "cell_type": "code",
   "execution_count": 18,
   "id": "touched-skiing",
   "metadata": {},
   "outputs": [
    {
     "name": "stdout",
     "output_type": "stream",
     "text": [
      "Forma da base de 2019: (12385, 6)\n",
      "Forma da base de 2020: (14921, 6)\n"
     ]
    }
   ],
   "source": [
    "print(f\"Forma da base de 2019: {dados_2019.shape}\\nForma da base de 2020: {dados_2020.shape}\")"
   ]
  },
  {
   "cell_type": "code",
   "execution_count": 20,
   "id": "described-bride",
   "metadata": {},
   "outputs": [
    {
     "data": {
      "text/html": [
       "<div>\n",
       "<style scoped>\n",
       "    .dataframe tbody tr th:only-of-type {\n",
       "        vertical-align: middle;\n",
       "    }\n",
       "\n",
       "    .dataframe tbody tr th {\n",
       "        vertical-align: top;\n",
       "    }\n",
       "\n",
       "    .dataframe thead th {\n",
       "        text-align: right;\n",
       "    }\n",
       "</style>\n",
       "<table border=\"1\" class=\"dataframe\">\n",
       "  <thead>\n",
       "    <tr style=\"text-align: right;\">\n",
       "      <th></th>\n",
       "      <th>uf</th>\n",
       "      <th>tipo_doenca</th>\n",
       "      <th>local_obito</th>\n",
       "      <th>faixa_etaria</th>\n",
       "      <th>sexo</th>\n",
       "      <th>total</th>\n",
       "    </tr>\n",
       "  </thead>\n",
       "  <tbody>\n",
       "    <tr>\n",
       "      <th>2546</th>\n",
       "      <td>AL</td>\n",
       "      <td>INSUFICIENCIA_RESPIRATORIA</td>\n",
       "      <td>OUTROS_SERVICOS_SAUDE</td>\n",
       "      <td>30 - 39</td>\n",
       "      <td>F</td>\n",
       "      <td>1</td>\n",
       "    </tr>\n",
       "    <tr>\n",
       "      <th>12099</th>\n",
       "      <td>PR</td>\n",
       "      <td>PNEUMONIA</td>\n",
       "      <td>HOSPITAL</td>\n",
       "      <td>N/I</td>\n",
       "      <td>F</td>\n",
       "      <td>14</td>\n",
       "    </tr>\n",
       "    <tr>\n",
       "      <th>5254</th>\n",
       "      <td>PI</td>\n",
       "      <td>INSUFICIENCIA_RESPIRATORIA</td>\n",
       "      <td>HOSPITAL</td>\n",
       "      <td>50 - 59</td>\n",
       "      <td>F</td>\n",
       "      <td>59</td>\n",
       "    </tr>\n",
       "    <tr>\n",
       "      <th>6066</th>\n",
       "      <td>GO</td>\n",
       "      <td>INDETERMINADA</td>\n",
       "      <td>OUTRO</td>\n",
       "      <td>60 - 69</td>\n",
       "      <td>F</td>\n",
       "      <td>3</td>\n",
       "    </tr>\n",
       "    <tr>\n",
       "      <th>8925</th>\n",
       "      <td>MT</td>\n",
       "      <td>PNEUMONIA</td>\n",
       "      <td>IGNORADO</td>\n",
       "      <td>80 - 89</td>\n",
       "      <td>F</td>\n",
       "      <td>11</td>\n",
       "    </tr>\n",
       "  </tbody>\n",
       "</table>\n",
       "</div>"
      ],
      "text/plain": [
       "       uf                 tipo_doenca            local_obito faixa_etaria  \\\n",
       "2546   AL  INSUFICIENCIA_RESPIRATORIA  OUTROS_SERVICOS_SAUDE      30 - 39   \n",
       "12099  PR                   PNEUMONIA               HOSPITAL          N/I   \n",
       "5254   PI  INSUFICIENCIA_RESPIRATORIA               HOSPITAL      50 - 59   \n",
       "6066   GO               INDETERMINADA                  OUTRO      60 - 69   \n",
       "8925   MT                   PNEUMONIA               IGNORADO      80 - 89   \n",
       "\n",
       "      sexo  total  \n",
       "2546     F      1  \n",
       "12099    F     14  \n",
       "5254     F     59  \n",
       "6066     F      3  \n",
       "8925     F     11  "
      ]
     },
     "execution_count": 20,
     "metadata": {},
     "output_type": "execute_result"
    }
   ],
   "source": [
    "dados_2019.sample(5)"
   ]
  },
  {
   "cell_type": "markdown",
   "id": "conditional-decrease",
   "metadata": {},
   "source": [
    "### Desafio 01 - Verificar como são classificados os dados"
   ]
  },
  {
   "cell_type": "markdown",
   "id": "federal-thriller",
   "metadata": {},
   "source": [
    "Disponivel o dicionario do registro de obito [aqui](https://transparencia.registrocivil.org.br/covid/dicionario_covid-19.pdf)"
   ]
  },
  {
   "cell_type": "markdown",
   "id": "deluxe-graham",
   "metadata": {},
   "source": [
    "Fim do Desafio"
   ]
  },
  {
   "cell_type": "code",
   "execution_count": 23,
   "id": "satellite-toronto",
   "metadata": {},
   "outputs": [
    {
     "data": {
      "text/plain": [
       "27"
      ]
     },
     "execution_count": 23,
     "metadata": {},
     "output_type": "execute_result"
    }
   ],
   "source": [
    "#Verificando se tem todos os estados\n",
    "len(dados_2019.uf.unique())"
   ]
  },
  {
   "cell_type": "code",
   "execution_count": 24,
   "id": "environmental-anatomy",
   "metadata": {},
   "outputs": [
    {
     "data": {
      "text/plain": [
       "array(['OUTRAS', 'INDETERMINADA', 'INSUFICIENCIA_RESPIRATORIA',\n",
       "       'PNEUMONIA', 'SEPTICEMIA', 'SRAG', 'COVID'], dtype=object)"
      ]
     },
     "execution_count": 24,
     "metadata": {},
     "output_type": "execute_result"
    }
   ],
   "source": [
    "dados_2019['tipo_doenca'].unique()"
   ]
  },
  {
   "cell_type": "code",
   "execution_count": 27,
   "id": "preceding-sweden",
   "metadata": {},
   "outputs": [
    {
     "data": {
      "text/plain": [
       "OUTRAS                        3847\n",
       "PNEUMONIA                     2353\n",
       "INSUFICIENCIA_RESPIRATORIA    2324\n",
       "SEPTICEMIA                    2065\n",
       "INDETERMINADA                 1308\n",
       "SRAG                           487\n",
       "COVID                            1\n",
       "Name: tipo_doenca, dtype: int64"
      ]
     },
     "execution_count": 27,
     "metadata": {},
     "output_type": "execute_result"
    }
   ],
   "source": [
    "dados_2019['tipo_doenca'].value_counts()"
   ]
  },
  {
   "cell_type": "code",
   "execution_count": 35,
   "id": "fatal-uzbekistan",
   "metadata": {},
   "outputs": [
    {
     "data": {
      "text/plain": [
       "OUTRAS                        3801\n",
       "INSUFICIENCIA_RESPIRATORIA    2334\n",
       "PNEUMONIA                     2214\n",
       "COVID                         2112\n",
       "SEPTICEMIA                    2031\n",
       "INDETERMINADA                 1347\n",
       "SRAG                          1082\n",
       "Name: tipo_doenca, dtype: int64"
      ]
     },
     "execution_count": 35,
     "metadata": {},
     "output_type": "execute_result"
    }
   ],
   "source": [
    "dados_2020['tipo_doenca'].value_counts()"
   ]
  },
  {
   "cell_type": "markdown",
   "id": "dedicated-translation",
   "metadata": {},
   "source": [
    "### Desafio 02 - Fazer o somatorio dos valores e não a contagem"
   ]
  },
  {
   "cell_type": "code",
   "execution_count": 37,
   "id": "deadly-plumbing",
   "metadata": {},
   "outputs": [
    {
     "data": {
      "text/html": [
       "<div>\n",
       "<style scoped>\n",
       "    .dataframe tbody tr th:only-of-type {\n",
       "        vertical-align: middle;\n",
       "    }\n",
       "\n",
       "    .dataframe tbody tr th {\n",
       "        vertical-align: top;\n",
       "    }\n",
       "\n",
       "    .dataframe thead th {\n",
       "        text-align: right;\n",
       "    }\n",
       "</style>\n",
       "<table border=\"1\" class=\"dataframe\">\n",
       "  <thead>\n",
       "    <tr style=\"text-align: right;\">\n",
       "      <th></th>\n",
       "      <th>total</th>\n",
       "    </tr>\n",
       "    <tr>\n",
       "      <th>tipo_doenca</th>\n",
       "      <th></th>\n",
       "    </tr>\n",
       "  </thead>\n",
       "  <tbody>\n",
       "    <tr>\n",
       "      <th>COVID</th>\n",
       "      <td>1</td>\n",
       "    </tr>\n",
       "    <tr>\n",
       "      <th>INDETERMINADA</th>\n",
       "      <td>6988</td>\n",
       "    </tr>\n",
       "    <tr>\n",
       "      <th>INSUFICIENCIA_RESPIRATORIA</th>\n",
       "      <td>100608</td>\n",
       "    </tr>\n",
       "    <tr>\n",
       "      <th>OUTRAS</th>\n",
       "      <td>660740</td>\n",
       "    </tr>\n",
       "    <tr>\n",
       "      <th>PNEUMONIA</th>\n",
       "      <td>226352</td>\n",
       "    </tr>\n",
       "    <tr>\n",
       "      <th>SEPTICEMIA</th>\n",
       "      <td>175533</td>\n",
       "    </tr>\n",
       "    <tr>\n",
       "      <th>SRAG</th>\n",
       "      <td>1498</td>\n",
       "    </tr>\n",
       "  </tbody>\n",
       "</table>\n",
       "</div>"
      ],
      "text/plain": [
       "                             total\n",
       "tipo_doenca                       \n",
       "COVID                            1\n",
       "INDETERMINADA                 6988\n",
       "INSUFICIENCIA_RESPIRATORIA  100608\n",
       "OUTRAS                      660740\n",
       "PNEUMONIA                   226352\n",
       "SEPTICEMIA                  175533\n",
       "SRAG                          1498"
      ]
     },
     "execution_count": 37,
     "metadata": {},
     "output_type": "execute_result"
    }
   ],
   "source": [
    "dados_2019.groupby('tipo_doenca').sum()"
   ]
  },
  {
   "cell_type": "code",
   "execution_count": 38,
   "id": "useful-circle",
   "metadata": {},
   "outputs": [
    {
     "data": {
      "text/html": [
       "<div>\n",
       "<style scoped>\n",
       "    .dataframe tbody tr th:only-of-type {\n",
       "        vertical-align: middle;\n",
       "    }\n",
       "\n",
       "    .dataframe tbody tr th {\n",
       "        vertical-align: top;\n",
       "    }\n",
       "\n",
       "    .dataframe thead th {\n",
       "        text-align: right;\n",
       "    }\n",
       "</style>\n",
       "<table border=\"1\" class=\"dataframe\">\n",
       "  <thead>\n",
       "    <tr style=\"text-align: right;\">\n",
       "      <th></th>\n",
       "      <th>total</th>\n",
       "    </tr>\n",
       "    <tr>\n",
       "      <th>tipo_doenca</th>\n",
       "      <th></th>\n",
       "    </tr>\n",
       "  </thead>\n",
       "  <tbody>\n",
       "    <tr>\n",
       "      <th>COVID</th>\n",
       "      <td>195787</td>\n",
       "    </tr>\n",
       "    <tr>\n",
       "      <th>INDETERMINADA</th>\n",
       "      <td>9713</td>\n",
       "    </tr>\n",
       "    <tr>\n",
       "      <th>INSUFICIENCIA_RESPIRATORIA</th>\n",
       "      <td>98978</td>\n",
       "    </tr>\n",
       "    <tr>\n",
       "      <th>OUTRAS</th>\n",
       "      <td>690474</td>\n",
       "    </tr>\n",
       "    <tr>\n",
       "      <th>PNEUMONIA</th>\n",
       "      <td>182081</td>\n",
       "    </tr>\n",
       "    <tr>\n",
       "      <th>SEPTICEMIA</th>\n",
       "      <td>162864</td>\n",
       "    </tr>\n",
       "    <tr>\n",
       "      <th>SRAG</th>\n",
       "      <td>16563</td>\n",
       "    </tr>\n",
       "  </tbody>\n",
       "</table>\n",
       "</div>"
      ],
      "text/plain": [
       "                             total\n",
       "tipo_doenca                       \n",
       "COVID                       195787\n",
       "INDETERMINADA                 9713\n",
       "INSUFICIENCIA_RESPIRATORIA   98978\n",
       "OUTRAS                      690474\n",
       "PNEUMONIA                   182081\n",
       "SEPTICEMIA                  162864\n",
       "SRAG                         16563"
      ]
     },
     "execution_count": 38,
     "metadata": {},
     "output_type": "execute_result"
    }
   ],
   "source": [
    "dados_2020.groupby('tipo_doenca').sum()"
   ]
  },
  {
   "cell_type": "code",
   "execution_count": 41,
   "id": "spanish-tampa",
   "metadata": {},
   "outputs": [
    {
     "data": {
      "text/html": [
       "<div>\n",
       "<style scoped>\n",
       "    .dataframe tbody tr th:only-of-type {\n",
       "        vertical-align: middle;\n",
       "    }\n",
       "\n",
       "    .dataframe tbody tr th {\n",
       "        vertical-align: top;\n",
       "    }\n",
       "\n",
       "    .dataframe thead th {\n",
       "        text-align: right;\n",
       "    }\n",
       "</style>\n",
       "<table border=\"1\" class=\"dataframe\">\n",
       "  <thead>\n",
       "    <tr style=\"text-align: right;\">\n",
       "      <th></th>\n",
       "      <th>total</th>\n",
       "    </tr>\n",
       "    <tr>\n",
       "      <th>tipo_doenca</th>\n",
       "      <th></th>\n",
       "    </tr>\n",
       "  </thead>\n",
       "  <tbody>\n",
       "    <tr>\n",
       "      <th>COVID</th>\n",
       "      <td>195787.00</td>\n",
       "    </tr>\n",
       "    <tr>\n",
       "      <th>INDETERMINADA</th>\n",
       "      <td>1.39</td>\n",
       "    </tr>\n",
       "    <tr>\n",
       "      <th>INSUFICIENCIA_RESPIRATORIA</th>\n",
       "      <td>0.98</td>\n",
       "    </tr>\n",
       "    <tr>\n",
       "      <th>OUTRAS</th>\n",
       "      <td>1.05</td>\n",
       "    </tr>\n",
       "    <tr>\n",
       "      <th>PNEUMONIA</th>\n",
       "      <td>0.80</td>\n",
       "    </tr>\n",
       "    <tr>\n",
       "      <th>SEPTICEMIA</th>\n",
       "      <td>0.93</td>\n",
       "    </tr>\n",
       "    <tr>\n",
       "      <th>SRAG</th>\n",
       "      <td>11.06</td>\n",
       "    </tr>\n",
       "  </tbody>\n",
       "</table>\n",
       "</div>"
      ],
      "text/plain": [
       "                                total\n",
       "tipo_doenca                          \n",
       "COVID                       195787.00\n",
       "INDETERMINADA                    1.39\n",
       "INSUFICIENCIA_RESPIRATORIA       0.98\n",
       "OUTRAS                           1.05\n",
       "PNEUMONIA                        0.80\n",
       "SEPTICEMIA                       0.93\n",
       "SRAG                            11.06"
      ]
     },
     "execution_count": 41,
     "metadata": {},
     "output_type": "execute_result"
    }
   ],
   "source": [
    "round(dados_2020.groupby('tipo_doenca').sum()/dados_2019.groupby('tipo_doenca').sum(),2)"
   ]
  },
  {
   "cell_type": "code",
   "execution_count": null,
   "id": "entertaining-flexibility",
   "metadata": {},
   "outputs": [],
   "source": []
  }
 ],
 "metadata": {
  "kernelspec": {
   "display_name": "Python 3",
   "language": "python",
   "name": "python3"
  },
  "language_info": {
   "codemirror_mode": {
    "name": "ipython",
    "version": 3
   },
   "file_extension": ".py",
   "mimetype": "text/x-python",
   "name": "python",
   "nbconvert_exporter": "python",
   "pygments_lexer": "ipython3",
   "version": "3.8.5"
  }
 },
 "nbformat": 4,
 "nbformat_minor": 5
}
